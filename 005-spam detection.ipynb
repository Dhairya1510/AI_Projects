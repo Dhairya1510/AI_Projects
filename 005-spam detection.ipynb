{
 "cells": [
  {
   "cell_type": "code",
   "execution_count": 10,
   "metadata": {},
   "outputs": [],
   "source": [
    "import pandas as pd\n",
    "import numpy as np\n",
    "import os\n",
    "import email\n",
    "import email.policy\n",
    "import random\n",
    "import matplotlib.pyplot as plt\n",
    "%matplotlib inline"
   ]
  },
  {
   "cell_type": "code",
   "execution_count": 15,
   "metadata": {},
   "outputs": [],
   "source": [
    "PATH = 'C:/Users/dtmt1/Desktop/Zummit/006-Spam_detection/'\n",
    "ham_filenames = [name for name in os.listdir(PATH+'ham')]\n",
    "spam_filenames = [name for name in os.listdir(PATH+'spam')]\n",
    "random.shuffle(ham_filenames)  #shuffle first\n",
    "random.shuffle(spam_filenames)"
   ]
  },
  {
   "cell_type": "code",
   "execution_count": 13,
   "metadata": {},
   "outputs": [
    {
     "name": "stdout",
     "output_type": "stream",
     "text": [
      "Number of spam emails: 458\n",
      "Number of ham emails: 2548\n"
     ]
    }
   ],
   "source": [
    "def load_email(is_spam,filename,path):\n",
    "    if is_spam :\n",
    "        path = path + 'spam/' + filename\n",
    "    else :\n",
    "        path = path + 'ham/' + filename\n",
    "    with open(path,'rb') as f:\n",
    "        return email.parser.BytesParser(policy=email.policy.default).parse(f)\n",
    "\n",
    "ham_emails = [load_email(False,name,PATH) for name in ham_filenames]\n",
    "spam_emails = [load_email(True,name,PATH) for name in spam_filenames]\n",
    "\n",
    "#remove not text type emails\n",
    "ham_emails = [email for email in ham_emails if type(email.get_payload()) is str or len(email.get_payload())>1] \n",
    "spam_emails = [email for email in spam_emails if type(email.get_payload()) is str or len(email.get_payload())>1]\n",
    "\n",
    "print('Number of spam emails:',len(spam_emails))\n",
    "print('Number of ham emails:',len(ham_emails))"
   ]
  },
  {
   "cell_type": "code",
   "execution_count": 21,
   "metadata": {
    "scrolled": true
   },
   "outputs": [
    {
     "name": "stdout",
     "output_type": "stream",
     "text": [
      "Example email content:\n",
      "\n",
      " Protect your financial well-being.\n",
      "Purchase an Extended Auto Warranty for your Car today. CLICK HERE for a FREE no obligation quote.\n",
      "http://www.newnamedns.com/warranty/\n",
      "  \n",
      "Car troubles always seem to happen at the worst possible time. Protect yoursel\n",
      "\n",
      "\n"
     ]
    }
   ],
   "source": [
    "test_email = spam_emails[0]\n",
    "print('Example email content:\\n\\n',test_email.get_payload()[:250])  #limit the size to 400 chars\n",
    "print('\\n')\n",
    "# print(test_email)"
   ]
  },
  {
   "cell_type": "code",
   "execution_count": 22,
   "metadata": {},
   "outputs": [],
   "source": [
    "from nltk.stem import PorterStemmer\n",
    "from nltk.tokenize import sent_tokenize, word_tokenize\n",
    "import nltk\n",
    "ps = PorterStemmer()"
   ]
  },
  {
   "cell_type": "code",
   "execution_count": 29,
   "metadata": {},
   "outputs": [],
   "source": [
    "import re\n",
    "import string\n",
    "def process_email(content) :\n",
    "    \n",
    "    if not isinstance(content,str) :       \n",
    "        return {},''\n",
    "    content = re.sub(r'<[^<>]+>', ' ',content)  ##strip all HTML\n",
    "    content = str.lower(content) ##lower case\n",
    "    \n",
    "    #handle URLS with http:// or https://\n",
    "    content = re.sub(r'(http|https)://[^\\s]*','httpaddr ',content) \n",
    "    \n",
    "    #handle email addresses\n",
    "    #look for strings with @ in the middle\n",
    "    content = re.sub(r'[^\\s]+@[^\\s]+','emailaddr',content)\n",
    "    \n",
    "    content = re.sub(r'[0-9]+', 'number ',content) #handle numbers\n",
    "    content = re.sub(r'[$]+','dollar ',content) #handle $ sign \n",
    "    content = re.sub(r'[\\n]+',' ',content) #remove \\n\n",
    "    #remove punctuaion\n",
    "    content = re.sub(r'[{0}]'.format(string.punctuation),' ',content) \n",
    "    \n",
    "    res = {}\n",
    "    words = word_tokenize(content)\n",
    "    content = ' '.join([ps.stem(word) for word in words])\n",
    "    for word in words :\n",
    "        word = ps.stem(word)\n",
    "        if len(word) > 11 :\n",
    "            continue\n",
    "        if len(word) <=1 :\n",
    "            continue\n",
    "        if not res.get(word):\n",
    "            res[word] = 0\n",
    "        res[word] += 1\n",
    "    \n",
    "    return res,content"
   ]
  },
  {
   "cell_type": "code",
   "execution_count": 30,
   "metadata": {
    "scrolled": true
   },
   "outputs": [
    {
     "name": "stdout",
     "output_type": "stream",
     "text": [
      "Email content becomes(only list 500 chars):\n",
      "\n",
      " protect your financi well be purchas an extend auto warranti for your car today click here for a free no oblig quot httpaddr car troubl alway seem to happen at the worst possibl time protect yourself and your famili with a qualiti extend warranti for your car truck or suv so that a larg expens can not hit you all at onc we cover most vehicl with less than number number mile buy direct our price are number number less we offer fair price and prompt toll free claim servic get an extend warranti on\n",
      "\n",
      "\n",
      "{'protect': 2, 'your': 6, 'financi': 1, 'well': 1, 'be': 1, 'purchas': 1, 'an': 2, 'extend': 4, 'auto': 1, 'warranti': 4, 'for': 5, 'car': 4, 'today': 2, 'click': 2, 'here': 2, 'free': 3, 'no': 2, 'oblig': 2, 'quot': 2, 'httpaddr': 3, 'troubl': 1, 'alway': 1, 'seem': 1, 'to': 3, 'happen': 1, 'at': 2, 'the': 2, 'worst': 1, 'possibl': 1, 'time': 1, 'yourself': 1, 'and': 2, 'famili': 1, 'with': 2, 'qualiti': 1, 'truck': 1, 'or': 1, 'suv': 1, 'so': 1, 'that': 1, 'larg': 1, 'expens': 1, 'can': 1, 'not': 1, 'hit': 1, 'you': 1, 'all': 1, 'onc': 1, 'we': 2, 'cover': 1, 'most': 1, 'vehicl': 1, 'less': 2, 'than': 1, 'number': 11, 'mile': 1, 'buy': 1, 'direct': 1, 'our': 1, 'price': 2, 'are': 1, 'offer': 1, 'fair': 1, 'prompt': 1, 'toll': 1, 'claim': 1, 'servic': 1, 'get': 1, 'on': 1, 'plan': 1, 'also': 1, 'includ': 1, 'hour': 2, 'roadsid': 1, 'assist': 1, 'rental': 1, 'benefit': 2, 'trip': 1, 'interrupt': 1, 'intervent': 1, 'tow': 1, 'easili': 1, 'remov': 2, 'address': 1, 'from': 1, 'list': 1, 'go': 1, 'pleas': 1, 'allow': 1}\n"
     ]
    }
   ],
   "source": [
    "(res,content) = process_email(test_email.get_payload())\n",
    "print('Email content becomes(only list 500 chars):\\n\\n',process_email(test_email.get_payload())[1][:500]) \n",
    "print('\\n')\n",
    "print(res)"
   ]
  },
  {
   "cell_type": "code",
   "execution_count": 33,
   "metadata": {},
   "outputs": [
    {
     "name": "stdout",
     "output_type": "stream",
     "text": [
      "number of total words in spam emails: 44304\n",
      "number of words that with frequency than 11: ['protect', 'your', 'financi', 'well', 'be', 'purchas', 'an', 'extend', 'auto', 'warranti', 'for', 'car', 'today', 'click', 'here', 'free', 'no', 'oblig', 'quot', 'httpaddr', 'troubl', 'alway', 'seem', 'to', 'happen', 'at', 'the', 'worst', 'possibl', 'time', 'yourself', 'and', 'famili', 'with', 'qualiti', 'or', 'so', 'that', 'larg', 'expens', 'can', 'not', 'hit', 'you', 'all', 'onc', 'we', 'cover', 'most', 'less', 'than', 'number', 'mile', 'buy', 'direct', 'our', 'price', 'are', 'offer', 'fair', 'prompt', 'toll', 'claim', 'servic', 'get', 'on', 'plan', 'also', 'includ', 'hour', 'assist', 'benefit', 'easili', 'remov', 'address', 'from', 'list', 'go', 'pleas', 'allow', 'link', 'decor', 'none', 'activ', 'da', 'visit', 'over', 'ff', 'text', 'nbsp', 'newslett', 'discov', 'immedi', 'releas', 'stock', 'cbyi', 'watch', 'strong', 'recommend', 'sever', 'ry', 'pick', 'ha', 'file', 'trade', 'share', 'increas', 'when', 'compani', 'thi', 'exchang', 'is', 'around', 'cent', 'should', 'et', 'in', 'near', 'futur', 'put', 'acquir', 'posit', 'reason', 'invest', 'profit', 'track', 'beat', 'earn', 'estim', 'one', 'of', 'fastest', 'grow', 'environment', 'amp', 'excel', 'manag', 'team', 'exclus', 'contract', 'air', 'forc', 'refin', 'industri', 'research', 'revenu', 'exceed', 'million', 'indic', 're', 'could', 'as', 'much', 'billion', 'technolog', 'by', 'end', 'congratul', 'last', 'hold', 'subscrib', 'took', 'advantag', 'honor', 'day', 'send', 'add', 'ne', 'certain', 'statement', 'contain', 'news', 'may', 'forward', 'within', 'mean', 'privat', 'secur', 'ref', 'act', 'these', 'identifi', 'such', 'term', 'believ', 'will', 'intend', 'similar', 'regist', 'broker', 'sell', 'profil', 'sold', 'held', 'learn', 'were', 'paid', 'cash', 'third', 'parti', 'publish', 'report', 'high', 'risk', 'use', 'inform', 'readi', 'ng', 'purpos', 'onli', 'if', 'anyon', 'decid', 'investor', 'then', 'it', 'sole', 'advis', 'proper', 'attorney', 'do', 'present', 'addit', 'form', 'own', 'decis', 'regard', 'ri', 'result', 'loss', 'entir', 'resid', 'ca', 'co', 'ct', 'de', 'id', 'il', 'la', 'mo', 'oh', 'pa', 'tn', 'va', 'wa', 'wi', 'where', 'prohibit', 'owner', 'alreadi', 'into', 'open', 'market', 'about', 'made', 'he', 'date', 'state', 'subject', 'chang', 'without', 'notic', 'copyright', 'equiv', 'untitl', 'document', 'window', 'ou', 'light', 'dnumber', 'cnumber', 'bd', 'bnumber', 'cd', 'fe', 'fnumber', 'anumb', 'ab', 'cb', 'enumb', 'ba', 'ce', 'bb', 'ea', 'ac', 'cc', 'aa', 'fa', 'cf', 'af', 'fb', 'eb', 'ad', 'www', 'com', 'emailaddr', 'sinc', 'found', 'ltd', 'succeed', 'project', 'product', 'have', 'step', 'profession', 'develop', 'offic', 'build', 'hous', 'room', 'expect', 'cooper', 'contact', 'us', 'tel', 'fax', 'citi', 'email', 'thank', 'lot', 'user', 'class', 'write', 'down', 'hello', 'credit', 'doe', 'matter', 'approv', 'now', 'let', 'some', 'top', 'mortgag', 'countri', 'compet', 'busi', 'good', 'give', 'amaz', 'rate', 'avail', 'anywher', 'poor', 'don', 'worri', 'still', 'competit', 'work', 'guarante', 'best', 'lender', 'fix', 'annuiti', 'record', 'both', 'seek', 'potenti', 'biggest', 'month', 'roll', 'client', 'better', 'altern', 'take', 'opportun', 'respond', 'receiv', 'replac', 'call', 'st', 'applic', 'bonu', 'digit', 'those', 'memori', 'fill', 'out', 'below', 'name', 'mail', 'phone', 'want', 'anybodi', 'who', 'wish', 'them', 'commun', 'sent', 'insur', 'repli', 'messag', 'instead', 'legal', 'upon', 'nationwid', 'pc', 'repair', 'charg', 'up', 'home', 'return', 'safe', 'uk', 'certifi', 'engin', 'meet', 'ani', 'more', 'wine', 'dollar', 'bottl', 'premium', 'member', 'discount', 'select', 'total', 'retail', 'valu', 'special', 'love', 'discoveri', 'comfort', 'conveni', 'program', 'two', 'off', 'regular', 'deliv', 'gift', 'll', 'choic', 'white', 'each', 'wonder', 'full', 'bodi', 'california', 'anoth', 'franc', 'world', 'right', 'satisfact', 'complet', 'satisfi', 'there', 'minimum', 'further', 'deliveri', 'explor', 'plu', 'ship', 'tax', 'depend', 'accept', 'order', 'adult', 'least', 'signatur', 'requir', 'combin', 'other', 'valid', 'follow', 'fl', 'ny', 'due', 'given', 'away', 'therefor', 'promot', 'which', 'same', 'becaus', 'unsubscrib', 'line', 'must', 'correspond', 'simpli', 'just', 'like', 'girl', 'next', 'xxx', 'first', 'photo', 'hidden', 'cam', 'seen', 'even', 'health', 'actual', 'revers', 'age', 'while', 'burn', 'fat', 'diet', 'exercis', 'proven', 'been', 'new', 'would', 'lose', 'weight', 'life', 'improv', 'level', 'muscl', 'sexual', 'opt', 'america', 'nigeria', 'power', 'author', 'feder', 'lago', 'desk', 'am', 'review', 'nation', 'although', 'propos', 'might', 'come', 'surpris', 'someon', 'know', 'ever', 'befor', 'but', 'after', 'my', 'colleagu', 'base', 'solicit', 'confidenti', 'five', 'hundr', 'thousand', 'unit', 'usdollar', 'sum', 'current', 'payment', 'account', 'central', 'bank', 'entitl', 'pay', 'note', 'execut', 'abov', 'me', 'partner', 'front', 'dure', 'caus', 'law', 'civil', 'oper', 'foreign', 'henc', 'soon', 'fund', 'discuss', 'center', 'how', 'shall', 'transfer', 'detail', 'great', 'god', 'bless', 'irish', 'linux', 'group', 'un', 'subscript', 'maintain', 'help', 'year', 'old', 'fortun', 'tremend', 'look', 'individu', 'make', 'incom', 'experi', 'train', 'employ', 'career', 'vast', 'self', 'motiv', 'peopl', 'specialist', 'simpl', 'club', 'bring', 'august', 'move', 'fast', 'internet', 'veri', 'major', 'featur', 'advertis', 'creat', 'huge', 'sourc', 'solut', 'far', 'expand', 'live', 'media', 'mm', 'drive', 'growth', 'becom', 'understand', 'view', 'save', 'gener', 'buyer', 'cost', 'effect', 'effort', 'cut', 'telephon', 'bill', 'provid', 'mass', 'negoti', 'real', 'never', 'anyth', 'march', 'financ', 'serv', 'small', 'intern', 'custom', 'directli', 'public', 'softwar', 'find', 'their', 'elimin', 'limit', 'design', 'substanti', 'low', 'money', 'three', 'littl', 'perform', 'septemb', 'th', 'feel', 'through', 'week', 'extrem', 'under', 'largest', 'attract', 'interest', 'target', 'point', 'begin', 'januari', 'recent', 'hnumber', '\\x1bdollar', 'vnumber', 'al', 'nnumber', 'bdollar', 'jnumber', 'pnumber', 'norton', 'control', 'comput', 'systemwork', 'suit', 'edit', 'six', 'ye', 'pack', 'util', 'unwant', 'hazard', 'valuabl', 'backup', 'data', 'quick', 'superior', 'integr', 'diagnost', 'shop', 'again', 'lt', 'gt', 'fall', 'prey', 'destruct', 'virus', 'hacker', 'obtain', 'against', 'spam', 'code', 'leas', 'abus', 'condon', 'shape', 'kindli', 'partija', 'srbije', 'socijalista', 'na', 'sa', 'se', 'predsednika', 'te', 'strank', 'slobodana', 'milosevica', 'iz', 'je', 'koji', 'za', 'dana', 'partij', 'od', 'im', 'sp', 'su', 'po', 'mladih', 'ga', 'univers', 'case', 'close', 'afford', 'whether', 'need', 'polici', 'specif', 'death', 'answer', 'lifetim', 'long', 'what', 'els', 'compens', 'until', 'reach', 'commiss', 'issu', 'underwrit', 'continu', 'coverag', 'prefer', 'non', 'smoker', 'pipe', 'tobacco', 'elig', 'they', 'smoke', 'cigarett', 'commerci', 'per', 'face', 'amount', 'cancer', 'attack', 'consid', 'prospect', 'normal', 'tabl', 'qualifi', 'excess', 'locat', 'keep', 'shown', 'figur', 'compar', 'lower', 'abil', 'except', 'jersey', 'york', 'inc', 'washington', 'street', 'respons', 'condit', 'later', 'mark', 'affili', 'ul', '���', 'question', 'strongli', 'unsolicit', 'site', 'request', 'notifi', 'run', 'apolog', 'error', 'perfect', 'think', 'refinanc', 'minut', 'onlin', 'easi', 'wait', 'dear', 'behalf', 'care', 'advanc', 'system', 'determin', 'invit', 'join', 'absolut', 'see', 'prepar', 'fun', 'sincer', 'tool', 'ebook', 'magazin', 'album', 'print', 'download', 'version', 'choos', 'display', 'page', 'turn', 'show', 'websit', 'distribut', 'via', 'floppi', 'rom', 'info', 'sampl', 'appropri', 'server', 'demand', 'tri', 'period', 'button', 'fulli', 'expir', 'way', 'medium', 'classifi', 'suppli', 'accord', 'occup', 'domain', 'aol', 'etc', 'membership', 'reserv', 'tradit', 'everyon', 'belong', 'databas', 'social', 'event', 'everi', 'someth', 'along', 'involv', 'hope', 'rest', 'hard', 'excit', 'whi', 'big', 'mlm', 'multi', 'initi', 'problem', 'truth', 've', 'got', 'tell', 'thing', 'hear', 'test', 'insid', 'reveal', 'option', 'isn', 'sound', 'uniqu', 'miss', 'chanc', 'head', 'treat', 'success', 'network', 'howev', 'arm', 'delet', 'organ', 'friend', 'person', 'store', 'import', 'screen', 'calcul', 'currenc', 'password', 'american', 'homeown', 'associ', 'director', 'man', 'hand', 'access', 'html', 'card', 'net', 'tire', 'talk', 'movi', 'enlarg', 'peni', 'natur', 'doctor', 'walk', 'male', 'type', 'complic', 'standard', 'lb', 'super', 'femal', 'agent', 'ext', 'agenc', 'brand', 'idea', 'enter', 'weekli', 'draw', 'titl', 'pass', 'congress', 'inconveni', 'ask', 'sir', 'madam', 'british', 'govern', 'euro', 'pound', 'inclus', 'spain', 'sale', 'depart', 'cheap', 'printer', 'back', 'url', 'verifi', 'manufactur', 'permiss', 'packag', 'past', 'browser', 'anytim', 'attain', 'independ', 'rd', 'overlook', 'bottom', 'usa', 'lead', 'reg', 'recognit', 'video', 'confer', 'worldwid', 'leader', 'produc', 'frugaljo', 'web', 'debt', 'licens', 'process', 'delay', 'asset', 'trust', 'kept', 'strictli', 'appli', 'citizen', 'size', 'illinoi', 'north', 'island', 'south', 'virginia', 'west', 'word', 'qnumber', '��number', '��', 'lowest', 'abl', 'instant', 'exclud', 'announc', 'final', 'biz', 'origin', 'cours', 'rememb', 'fee', 'panel', 'administr', 'inumb', 'ssnumber', 'tlnumber', 'inexpens', 'sign', 'articl', 'intellig', 'read', 'comprehens', 'directori', 'wide', 'gain', 'resourc', 'job', 'complianc', 'section', 'paragraph', 'done', 'technic', 'instruct', 'monthli', 'connect', 'particip', 'set', 'imagin', 'start', 'everyth', 'few', 'exactli', 'stop', 'place', 'postal', 'ave', 'zip', 'check', 'visa', 'mastercard', 'appear', 'secret', 'often', 'color', 'cartridg', 'sonumb', 'loan', 'enough', 'deal', 'kind', 'short', 'promis', 'won', 'second', 'happi', 'action', 'font', 'san', 'black', 'noth', 'polit', 'fit', 'travel', 'tip', 'book', 'content', 'daili', 'medic', 'quickli', 'enjoy', 'drug', 'lnumber', 'sure', 'attent', 'incred', 'buck', 'satellit', 'channel', 'cabl', 'longer', 'yet', 'space', 'true', 'farm', 'freaki', 'celeb', 'play', 'porn', 'teen', 'sex', 'entertain', 'part', 'privaci', 'lenumb', 'kingdom', 'john', 'militari', 'did', 'former', 'late', 'laurent', 'kabila', 'presid', 'democrat', 'republ', 'congo', 'africa', 'wife', 'child', 'son', 'say', 'hi', 'father', 'thirti', 'war', 'box', 'deposit', 'mr', 'respect', 'knowledg', 'avoid', 'transact', 'remain', 'suggest', 'urgent', 'furnish', 'faith', 'gnumber', 'tnumber', 'unumb', 'etnumb', 'wdnumber', 'wnumber', 'eenumb', 'adnumb', 'snumber', 'rnumber', 'mnumber', 'xhnumber', 'onumb', 'tqnumber', 'xnumber', 'knumber', 'kznumber', 'vtnumber', 'znumber', 'zenumb', 'nznumber', 'wznumber', 'zdnumber', 'ynumber', 'nanumb', 'tynumb', 'wanumb', 'efnumb', 'ntnumber', 'qqnumber', 'canumb', 'sunumb', 'swnumber', 'pcnumber', 'xlnumber', 'yznumber', 'upnumb', 'afnumb', 'utnumb', 'mv', 'cbnumber', 'acnumb', 'ennumb', 'ponumb', 'pnnumber', 'pznumber', 'ejnumb', 'trnumber', 'fcnumber', 'jsnumber', 'xxnumber', 'iznumb', 'benumb', 'ocnumb', 'funumb', 'jknumber', 'abnumb', 'zynumb', 'vxnumber', 'evnumb', 'awnumb', 'junumb', 'aanumb', 'aynumb', 'tpnumber', 'ttnumber', 'pqnumber', 'ecnumb', 'bknumber', 'monumb', 'sxnumber', 'eanumb', 'bdnumber', 'txnumber', 'lo', 'mpnumber', 'bfnumber', 'banumb', 'alnumb', 'cdnumber', 'mfnumber', 'bonumb', 'vanumb', 'synumb', 'au', 'jr', 'ywnumber', 'gbnumber', 'krnumber', 'binumb', 'irnumb', 'ms', 'ffnumber', 'dc', 'crnumber', 'dom', 'cfnumber', 'zjnumber', 'fbnumber', 'fenumb', 'elnumb', 'xknumber', 'hdnumber', 'mb', 'pynumb', 'zhnumber', 'eznumb', 'kinumb', 'lsnumber', 'tknumber', 'rc', 'tbnumber', 'uanumb', 'ddnumber', 'bhnumber', 'cwnumber', 'xznumber', 'dcnumber', 'danumb', 'ixnumb', 'jjnumber', 'nqnumber', 'yjnumber', 'wmnumber', 'sknumber', 'ufnumb', 'sr', 'fdnumber', 'ccnumber', 'bcnumber', 'hhnumber', 'xjnumber', 'ijnumb', 'fanumb', 'opnumb', 'ownumb', 'mqnumber', 'tcnumber', 'bnnumber', 'penumb', 'ldnumber', 'aenumb', 'pdnumber', 'xmnumber', 'lunumb', 'denumb', 'rhnumber', 'twnumber', 'nwnumber', 'zsnumber', 'rlnumber', 'pm', 'bbnumber', 'zwnumber', 'dbnumber', 'tm', 'dr', 'ylnumber', 'fp', 'yhnumber', 'cenumb', 'yxnumber', 'dfnumber', 'ebnumb', 'uhnumb', 'nlnumber', 'khnumber', 'tv', 'rwnumber', 'ucnumb', 'ednumb', 'le', 'spend', 'paper', 'oil', 'though', 'mani', 'construct', 'worth', 'win', 'attempt', 'ensur', 'accur', 'offici', 'firm', 'post', 'copi', 'search', 'automat', 'letter', 'zimbabw', 'mother', 'her', 'farmer', 'support', 'robert', 'surrend', 'item', 'local', 'leav', 'him', 'confirm', 'press', 'drop', 'minist', 'commit', 'left', 'modal', 'settl', 'abidjan', 'coast', 'desir', 'confid', 'wealthi', 'econom', 'capit', 'die', 'june', 'told', 'kin', 'wealth', 'boy', 'toward', 'seven', 'stuff', 'skill', 'had', 'properti', 'wast', 'estat', 'updat', 'arriv', 'land', 'sea', 'thu', 'enenkio', 'reciev', 'est', 'moor', 'gold', 'rmi', 'monarch', 'comment', 'decemb', 'stamp', 'declar', 'exist', 'virtual', 'taongi', 'atol', 'northern', 'marshal', 'pacif', 'fraudul', 'assert', 'marshalles', 'wake', 'repres', 'ministri', 'acknowledg', 'either', 'agreement', 'paramount', 'chief', 'hermio', 'grant', 'formal', 'correct', 'taken', 'seriou', 'majesti', 'king', 'remio', 'human', 'almost', 'concern', 'fight', 'nativ', 'ignor', 'sovereign', 'eneen', 'kio', 'doesn', 'said', 'signific', 'cultur', 'fact', 'legitim', 'techniqu', 'stori', 'awar', 'honesti', 'establish', 'iroijlaplap', 'murjel', 'ratak', 'constitut', 'whatev', 'jurisdict', 'lie', 'territori', 'nor', 'mandat', 'histori', 'centuri', 'western', 'illeg', 'peac', 'between', 'wear', 'area', 'assum', 'assur', 'knew', 'lost', 'fail', 'necessari', 'wrong', 'known', 'equal', 'defin', 'outsid', 'whose', 'china', 'relat', 'achiev', 'agre', 'strategi', 'refer', 'bureau', 'practic', 'sort', 'investig', 'husband', 'societi', 'half', 'educ', 'possess', 'germani', 'four', 'evalu', 'broadcast', 'european', 'beauti', 'devot', 'advic', 'dare', 'zealand', 'too', 'pre', 'primari', 'factor', 'dream', 'rel', 'multipl', 'en', 'submit', 'commerc', 'twenti', 'approach', 'exampl', 'format', 'came', 'common', 'trader', 'bit', 'ident', 'thought', 'behind', 'campaign', 'heard', 'mind', 'expert', 'testimoni', 'averag', '�i', 'singl', 'didn', '������', '����', 'diseas', 'therapi', 'teach', 'rich', 'introduc', 'annual', 'realli', 'bad', 'women', 'glad', 'african', 'confisc', 'situat', 'conceal', 'stay', 'moment', 'differ', 'equiti', 'reward', 'corpor', 'dvd', 'children', 'lay', 'studi', 'hot', 'she', 'sweet', 'young', 'canada', 'india', 'carrier', 'ordinari', 'consum', 'scholarship', 'colleg', 'wouldn', 'consult', 'school', 'music', 'lesson', 'men', 'guid', 'electron', 'guidelin', 'ventur', 'materi', 'bonus', 'alon', 'interact', 'prescript', 'manual', 'exact', 'pocket', 'mistak', 'partnership', 'machin', 'enhanc', 'coach', 'whole', 'handl', 'describ', 'sport', 'descrambl', 'alter', 'speed', 'omaha', 'popul', 'method', 'stagger', 'suppos', 'startup', 'popular', 'minim', 'pam', 'gambl', 'key', 'envelop', 'resel', 'reap', 'count', 'insert', 'modifi', 'disk', 'bulk', 'goe', 'grand', 'larger', 'sheet', 'millionair', 'relax', 'progress', 'batch', 'freedom', 'mitchel', 'jodi', 'chicago', 'pretti', 'junk', 'percentag', 'jump', 'laugh', 'shock', 'faster', 'dan', 'road', 'slim', 'deserv', 'stream', 'plug', 'host', 'broken', 'auction', 'fresh', 'express', 'extra', 'kid', 'anti', 'consolid', 'prizemama', 'steal', 'du', 'gb', 'organis', 'exhibit', 'converg', 'forum', 'mobil', 'visitor', 'basic', 'enabl', 'nddc', 'forti', 'trial', 'ebay', 'cfont', 'ffont', 'cp', 'darial', 'game', 'collect', 'greatest', 'probabl', 'master', 'formula', 'carri', '\\\\tab', 'intro', 'neg', 'une', 'award', 'ghetto', 'extract', 'bulkbook', 'mailer', 'oz', 'entrepris', 'nouvel', 'pour', 'leur', 'tél', 'savoir', 'société', 'par', 'sur', 'aux', 'vou', '뷰티', '인테리어', '있는', 'dmm', 'donat', 'sensit', 'botan', 'shangrila', 'zowi', 'wowi', 'tablet', 'aqueou', 'kathmandu', 'vjestika', 'aphrodisia', 'herb', 'capillari', 'herba', 'potent', 'poker', 'stud', 'craig', 'pst', 'fzq', 'psofydnumb', 'fgarnumb', 'xyak', 'mhyv', 'esw', 'fhxlnumber', 'cwrlnumber', 'fxsnumber', 'qadknumb', 'hyvezjnumb', 'yabnumb', 'ydhvnumber', 'aadhvnumb', 'hufuagwnumb']\n"
     ]
    }
   ],
   "source": [
    "def build_vocab(emails) :\n",
    "    '''\n",
    "    build_vocab will build a vocabulary with words \n",
    "    appearing in the email content\n",
    "    @emails : list of email\n",
    "    @return : \n",
    "    '''\n",
    "    assert isinstance(emails,list)\n",
    "    dic = {}\n",
    "    index = 0\n",
    "    \n",
    "    while index < len(emails) :\n",
    "        email = emails[index]\n",
    "        judge = email.get_payload()\n",
    "        if type(judge) is not str:\n",
    "            dict_email = {}\n",
    "            for e in judge :\n",
    "                dic_toadd = process_email(e.get_payload())\n",
    "                for word in dic_toadd[0] :\n",
    "                    if not dic_email.get(word):\n",
    "                        dic_email[word] = 0\n",
    "                    dic_email[word] += 1\n",
    "        else :\n",
    "            dic_email = process_email(judge)[0]\n",
    "        for word in dic_email.keys() :\n",
    "            if not dic.get(word) :\n",
    "                dic[word] = 0\n",
    "            dic[word] += dic_email[word]\n",
    "        index+=1\n",
    "    \n",
    "    return dic\n",
    "# print(test_email['Subject'])\n",
    "vocab = build_vocab(spam_emails)\n",
    "print('number of total words in spam emails:', len(vocab.keys()))\n",
    "vocab = [word for word in vocab.keys() if vocab[word]>11]\n",
    "print('number of words that with frequency than 11:', vocab)\n",
    "n = len(vocab)"
   ]
  },
  {
   "cell_type": "code",
   "execution_count": 26,
   "metadata": {},
   "outputs": [],
   "source": [
    "df_vo = pd.DataFrame(vocab)\n",
    "df_vo = df_vo.rename(columns={0:'words'})\n",
    "df_vo.to_csv('vocabulary.csv',index=False)"
   ]
  },
  {
   "cell_type": "code",
   "execution_count": 34,
   "metadata": {},
   "outputs": [],
   "source": [
    "import random\n",
    "class emailToFeature:\n",
    "    '''\n",
    "    This is a class for building feature vectors\n",
    "    '''\n",
    "    def __init__(self,filename) :\n",
    "        vocab = pd.read_csv(filename)\n",
    "        vocab = list(vocab['words'])\n",
    "        index = 0\n",
    "        vocabulary = {}\n",
    "        while index < len(vocab) :\n",
    "            vocabulary[vocab[index]] = index\n",
    "            index+=1\n",
    "        self.d = len(vocab)\n",
    "        self.vocab = vocabulary   \n",
    "    \n",
    "    def fea_vector(self,email) :\n",
    "        '''\n",
    "        return a numpy array(1Xn) representing the\n",
    "        feature vector\n",
    "        @email: input email can be both a string and email object\n",
    "        '''\n",
    "        if type(email) is str:\n",
    "            judge = email\n",
    "        else :\n",
    "            judge = email.get_payload()\n",
    "        if not type(judge) is str:\n",
    "            dic_email = {}\n",
    "            for e in judge :\n",
    "                dic_toadd = process_email(e.get_payload())\n",
    "                for word in dic_toadd[0] :\n",
    "                    if not dic_email.get(word):\n",
    "                        dic_email[word] = 0\n",
    "                    dic_email[word] += 1\n",
    "        else :\n",
    "            dic_email = process_email(judge)[0]\n",
    "            \n",
    "        res = np.zeros((1,self.d))\n",
    "        for word in dic_email.keys() :\n",
    "            if not self.vocab.get(word):\n",
    "                continue\n",
    "            index = self.vocab[word]\n",
    "            res[0,index] = 1\n",
    "        return res\n",
    "    \n",
    "    def build_vectors(self,is_spam,emails) :\n",
    "        '''\n",
    "        build feature vectors\n",
    "        \n",
    "        @emails : list of ham or spam emails\n",
    "        @return : numpy array representing feature vectors\n",
    "        '''\n",
    "        N = len(emails)  # N*d array\n",
    "        fea_vectors = np.zeros((N,self.d+1))\n",
    "        for i in range(N) :\n",
    "            a = self.fea_vector(emails[i])\n",
    "            fea_vectors[i,:-1] = a\n",
    "        if is_spam :\n",
    "            fea_vectors[:,self.d] = 1\n",
    "        else :\n",
    "            fea_vectors[:,self.d] = 0\n",
    "        return fea_vectors"
   ]
  },
  {
   "cell_type": "code",
   "execution_count": 35,
   "metadata": {},
   "outputs": [
    {
     "name": "stdout",
     "output_type": "stream",
     "text": [
      "size of spam feature vectors is: (458, 1741)\n",
      "size of ham feature vectors is: (2548, 1741)\n"
     ]
    }
   ],
   "source": [
    "\n",
    "#construct feature vectors and export them to csv files\n",
    "emailTof = emailToFeature('vocabulary.csv') #class object\n",
    "spam_vectors = emailTof.build_vectors(True,spam_emails)\n",
    "ham_vectors = emailTof.build_vectors(False,ham_emails)\n",
    "\n",
    "index = list(range(n+1))\n",
    "spam_df = pd.DataFrame(spam_vectors,columns=index)\n",
    "spam_df.to_csv('spam_vectors.csv',index = False)\n",
    "ham_df = pd.DataFrame(ham_vectors,columns=index)\n",
    "ham_df.to_csv('ham_vectors.csv',index=False)\n",
    "\n",
    "print('size of spam feature vectors is:',spam_vectors.shape)\n",
    "print('size of ham feature vectors is:',ham_vectors.shape)"
   ]
  },
  {
   "cell_type": "code",
   "execution_count": 36,
   "metadata": {},
   "outputs": [],
   "source": [
    "ham_training = ham_vectors[:1530]\n",
    "ham_validation,ham_test = ham_vectors[1530:2039],ham_vectors[2039:]\n",
    "\n",
    "spam_training = spam_vectors[:274]\n",
    "spam_validation,spam_test = spam_vectors[274:365],spam_vectors[365:]\n",
    "\n",
    "training = np.concatenate((ham_training,spam_training))\n",
    "np.random.shuffle(training)\n",
    "pd.DataFrame(training,columns=index).to_csv('training.csv',index=False)\n",
    "\n",
    "cval = np.concatenate((ham_validation,spam_validation))\n",
    "test = np.concatenate((ham_test,spam_test))\n",
    "pd.DataFrame(cval,columns=index).to_csv('cross-validation.csv',index=False)\n",
    "pd.DataFrame(test,columns=index).to_csv('test.csv',index=False)"
   ]
  },
  {
   "cell_type": "code",
   "execution_count": 37,
   "metadata": {},
   "outputs": [],
   "source": [
    "#Get word frequency distribution in both spam and non-spam email\n",
    "#60% training data and 20% test data, the same as above\n",
    "#Only use the word whose frequency difference between spam and non-spam email is greater than 20\n",
    "vocab_spam = build_vocab(spam_emails[0:274])\n",
    "vocab_ham = build_vocab(ham_emails[0:1530])\n",
    "voc = [word for word in vocab_spam.keys() if vocab_ham.get(word) and abs(vocab_ham[word] - vocab_spam[word]) > 20] \n",
    "vocab_ham = {word:vocab_ham[word] for word in voc}\n",
    "vocab_spam = {word:vocab_spam[word] for word in voc}\n",
    "sum_ham,sum_spam = sum(list(vocab_ham.values())),sum(list(vocab_spam.values()))\n",
    "vocab_ham = {word:vocab_ham[word]/sum_ham for word in voc}   # key is word and value is probability in ham eamils\n",
    "vocab_spam = {word:vocab_spam[word]/sum_spam for word in voc} # key is word and value is probability in spam eamils"
   ]
  },
  {
   "cell_type": "code",
   "execution_count": 38,
   "metadata": {},
   "outputs": [],
   "source": [
    "spam_test,ham_test = spam_emails[365:],ham_emails[2039:]"
   ]
  },
  {
   "cell_type": "code",
   "execution_count": 39,
   "metadata": {},
   "outputs": [],
   "source": [
    "word_spam = list(vocab_spam.keys())\n",
    "word_spam.sort(key=lambda x:vocab_spam[x],reverse=True)\n",
    "word_spam = word_spam[:100] #choose 100 words\n",
    "y_spam, y_ham= [vocab_spam[word] for word in word_spam],[vocab_ham[word] for word in word_spam]"
   ]
  },
  {
   "cell_type": "code",
   "execution_count": 40,
   "metadata": {
    "scrolled": true
   },
   "outputs": [
    {
     "data": {
      "image/png": "[encoded data removed]",
      "text/plain": [
       "<Figure size 432x288 with 1 Axes>"
      ]
     },
     "metadata": {
      "needs_background": "light"
     },
     "output_type": "display_data"
    }
   ],
   "source": [
    "plt.plot(list(range(100)),y_spam)\n",
    "plt.ylabel('Probability')\n",
    "plt.xlabel('Index of word(only show 100 words)')\n",
    "plt.title('Word frequency probability distribution(spam email)')\n",
    "plt.show()"
   ]
  },
  {
   "cell_type": "code",
   "execution_count": 41,
   "metadata": {
    "scrolled": true
   },
   "outputs": [
    {
     "data": {
      "image/png": "[encoded data removed]",
      "text/plain": [
       "<Figure size 432x288 with 1 Axes>"
      ]
     },
     "metadata": {
      "needs_background": "light"
     },
     "output_type": "display_data"
    }
   ],
   "source": [
    "plt.plot(list(range(100)),y_ham)\n",
    "plt.ylabel('Probability')\n",
    "plt.xlabel('Index of word(only show 100 words)')\n",
    "plt.title('Word frequency probability distribution(non-spam)')\n",
    "plt.show()"
   ]
  },
  {
   "cell_type": "code",
   "execution_count": 42,
   "metadata": {},
   "outputs": [],
   "source": [
    "def process_single(email):\n",
    "    '''\n",
    "    Return a str which represents processed email content\n",
    "    '''\n",
    "    judge = email.get_payload()\n",
    "    dic = {}\n",
    "    if type(judge) is not str:\n",
    "        dic_email = {}\n",
    "        for e in judge :\n",
    "            dic_toadd = process_email(e.get_payload())\n",
    "            for word in dic_toadd[0] :\n",
    "                if not dic_email.get(word):\n",
    "                    dic_email[word] = 0\n",
    "                dic_email[word] += 1\n",
    "    else :\n",
    "        dic_email = process_email(judge)[0]\n",
    "    for word in dic_email.keys() :\n",
    "        if not dic.get(word) :\n",
    "            dic[word] = 0\n",
    "        dic[word] += dic_email[word]\n",
    "    return dic"
   ]
  },
  {
   "cell_type": "code",
   "execution_count": 43,
   "metadata": {},
   "outputs": [],
   "source": [
    "def com_precision(y,y_p):\n",
    "    '''\n",
    "    y is true classification\n",
    "    y_p is predicted classification\n",
    "    '''\n",
    "    length = len(y)\n",
    "    num_pre1 = np.sum(y_p)\n",
    "    num_correct = 0\n",
    "    for i in range(length) :\n",
    "        if y_p[i] != 1:\n",
    "            continue\n",
    "        if y[i] == 1:\n",
    "            num_correct += 1\n",
    "    return num_correct / num_pre1\n",
    "\n",
    "def com_recall(y,y_p) :\n",
    "    '''\n",
    "    y is true classification\n",
    "    y_p is predicted classification\n",
    "    '''\n",
    "    actual1 = np.sum(y)\n",
    "    length = len(y)\n",
    "    num_correct = 0\n",
    "    for i in range(length) :\n",
    "        if y[i]!=1 :\n",
    "            continue \n",
    "        if y_p[i] == 1:\n",
    "            num_correct += 1\n",
    "    return num_correct / actual1\n",
    "\n",
    "def com_f1Score(precision,recall):\n",
    "    '''\n",
    "    Compute F1-score\n",
    "    ''' \n",
    "    return 2*precision*recall/(precision+recall)\n",
    "\n",
    "def com_error(y,y_p):\n",
    "    '''\n",
    "    compute error\n",
    "    '''\n",
    "    vali = np.ones(len(y))\n",
    "    vali = vali[y == y_p]\n",
    "    return 1-np.sum(vali) / len(y_p)"
   ]
  },
  {
   "cell_type": "code",
   "execution_count": 44,
   "metadata": {},
   "outputs": [],
   "source": [
    "#Predict\n",
    "indexs_spam = np.array([0]*(len(spam_test)+len(ham_test))) #this will be the predicted array \n",
    "judge_array = np.array([1]*len(spam_test)+[0]*len(ham_test)) # this is the true value array\n",
    "emails_t = spam_test + ham_test\n",
    "for i in range(len(spam_test)+len(ham_test)):\n",
    "    email = emails_t[i]\n",
    "    con = process_single(email)\n",
    "    con = {word:con[word] for word in con if vocab_spam.get(word)}\n",
    "    df = pd.DataFrame.from_dict(con,orient='index',columns=['frequency'])\n",
    "    prob_spam = np.array([vocab_spam[word] for word in df.index if vocab_spam.get(word)])\n",
    "    prob_spam = np.log(prob_spam)\n",
    "    df['prob_spam'] = prob_spam\n",
    "    prob_ham = np.array([vocab_ham[word] for word in df.index if vocab_spam.get(word)])\n",
    "    prob_ham = np.log(prob_ham)\n",
    "    df['prob_ham'] = prob_ham\n",
    "    if ((df['prob_spam'] * df['frequency']).sum()+np.log(0.1524) >= (df['prob_ham'] * df['frequency']).sum()+np.log(1-0.1524)) :\n",
    "        indexs_spam[i] = 1"
   ]
  },
  {
   "cell_type": "code",
   "execution_count": 45,
   "metadata": {},
   "outputs": [
    {
     "name": "stdout",
     "output_type": "stream",
     "text": [
      "precision for Naive Bayes is: 0.9662921348314607\n",
      "recall for Naive Bayes is: 0.9247311827956989\n",
      "error for Naive Bayes is: 0.01661129568106312\n",
      "percentage of accuracy is: 98.34%\n"
     ]
    }
   ],
   "source": [
    "error_bayes = com_error(judge_array,indexs_spam)\n",
    "precision_bayes = com_precision(judge_array,indexs_spam)\n",
    "recall_bayes = com_recall(judge_array,indexs_spam)\n",
    "print('precision for Naive Bayes is:',precision_bayes)\n",
    "print('recall for Naive Bayes is:',recall_bayes)\n",
    "print('error for Naive Bayes is:',error_bayes)\n",
    "print('percentage of accuracy is:','{0:.4}'.format((1-error_bayes)*100)+'%')"
   ]
  }
 ],
 "metadata": {
  "kernelspec": {
   "display_name": "Python 3",
   "language": "python",
   "name": "python3"
  },
  "language_info": {
   "codemirror_mode": {
    "name": "ipython",
    "version": 3
   },
   "file_extension": ".py",
   "mimetype": "text/x-python",
   "name": "python",
   "nbconvert_exporter": "python",
   "pygments_lexer": "ipython3",
   "version": "3.8.5"
  }
 },
 "nbformat": 4,
 "nbformat_minor": 4
}
